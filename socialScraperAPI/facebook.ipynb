{
 "cells": [
  {
   "cell_type": "code",
   "execution_count": 2,
   "metadata": {},
   "outputs": [
    {
     "name": "stdout",
     "output_type": "stream",
     "text": [
      "{'page_id': '100064860875397'}\n"
     ]
    }
   ],
   "source": [
    "import requests\n",
    "\n",
    "url = \"https://facebook-scraper3.p.rapidapi.com/page/page_id\"\n",
    "\n",
    "querystring = {\"url\":\"https://facebook.com/facebook\"}\n",
    "\n",
    "headers = {\n",
    "\t\"x-rapidapi-key\": \"04edcb85a3mshac913eab2bf3075p184839jsn4e30538b9195\",\n",
    "\t\"x-rapidapi-host\": \"facebook-scraper3.p.rapidapi.com\"\n",
    "}\n",
    "\n",
    "response = requests.get(url, headers=headers, params=querystring)\n",
    "\n",
    "print(response.json())"
   ]
  },
  {
   "cell_type": "code",
   "execution_count": 5,
   "metadata": {},
   "outputs": [
    {
     "name": "stdout",
     "output_type": "stream",
     "text": [
      "{'results': [{'post_id': '1050685920436761', 'type': 'post', 'url': 'https://www.facebook.com/facebook/posts/pfbid02HhXJz6pQ38RfZMgxxLXCWF1RzGuvBDFppC81W1xgrS6tdvKacw7V2CHN72WvdWWPl', 'message': '❤️ Who’s someone you haven’t seen in a while, but you often miss? ❤️', 'timestamp': 1735318805, 'comments_count': 25119, 'reactions_count': 57568, 'reshare_count': 3933, 'reactions': {'angry': 61, 'care': 1669, 'haha': 660, 'like': 35669, 'love': 8924, 'sad': 10370, 'wow': 215}, 'author': {'id': '100064860875397', 'name': 'Facebook', 'url': 'https://www.facebook.com/facebook', 'profile_picture_url': 'https://scontent.fsju2-1.fna.fbcdn.net/v/t39.30808-1/380700650_10162533193146729_2379134611963304810_n.jpg?stp=cp0_dst-jpg_s40x40_tt6&_nc_cat=1&ccb=1-7&_nc_sid=2d3e12&_nc_ohc=67Nz6WPCgW4Q7kNvgFZiETs&_nc_zt=24&_nc_ht=scontent.fsju2-1.fna&_nc_gid=Ap4ozhax8g96zTlPtRyeP0c&oh=00_AYDkO-ohRPPUmU-sC4UzmL2TKyH0IvInJ0WchSaZ_cc0iA&oe=6778258E'}, 'image': None, 'video': None, 'album_preview': None, 'video_files': None, 'external_url': None, 'attached_post': None, 'attached_post_url': None}, {'post_id': '1049921747179845', 'type': 'post', 'url': 'https://www.facebook.com/reel/1137219224778719/', 'message': 'Let’s go, mangos! 🥭 Today, we’re making mango floats with GroovyFoodiess. \\n\\nMusic by The Kid LAROI.', 'timestamp': 1735232456, 'comments_count': 1231, 'reactions_count': 4013, 'reshare_count': 252, 'reactions': {'angry': 8, 'care': 95, 'haha': 16, 'like': 3173, 'love': 666, 'sad': 2, 'wow': 53}, 'author': {'id': '100064860875397', 'name': 'Facebook', 'url': 'https://www.facebook.com/facebook', 'profile_picture_url': 'https://scontent.fsju2-1.fna.fbcdn.net/v/t39.30808-1/380700650_10162533193146729_2379134611963304810_n.jpg?stp=cp0_dst-jpg_s40x40_tt6&_nc_cat=1&ccb=1-7&_nc_sid=2d3e12&_nc_ohc=67Nz6WPCgW4Q7kNvgFZiETs&_nc_zt=24&_nc_ht=scontent.fsju2-1.fna&_nc_gid=Ap4ozhax8g96zTlPtRyeP0c&oh=00_AYDkO-ohRPPUmU-sC4UzmL2TKyH0IvInJ0WchSaZ_cc0iA&oe=6778258E'}, 'image': None, 'video': 'https://www.facebook.com/reel/1137219224778719/', 'album_preview': None, 'video_files': {'video_sd_file': 'https://video.fsju2-1.fna.fbcdn.net/o1/v/t2/f2/m69/AQPDBNce1SHQmUrjthqg5MxGTVQkMT8GVN_SpjsscVFFpTq4sFYz3jr8q1MwodOu_AxsL_mVorae9tYyLtVjiMkq.mp4?strext=1&_nc_cat=103&_nc_sid=8bf8fe&_nc_ht=video.fsju2-1.fna.fbcdn.net&_nc_ohc=JNCUFfrgTlQQ7kNvgGdBJg1&efg=eyJ2ZW5jb2RlX3RhZyI6Inhwdl9wcm9ncmVzc2l2ZS5GQUNFQk9PSy4uQzMuMzYwLnN2ZV9zZCIsInhwdl9hc3NldF9pZCI6NDg2NzM3OTI3Nzc0MDI1LCJ1cmxnZW5fc291cmNlIjoid3d3In0%3D&ccb=9-4&_nc_zt=28&oh=00_AYC3tN1Dr7gECiUv-FJBWXOPlAUUWq8Y0uVWphhnJxRf4w&oe=6778125E', 'video_hd_file': 'https://video.fsju2-1.fna.fbcdn.net/o1/v/t2/f2/m69/AQMcqUXopxcppQAkMVfcjH1aY3vQkT5p-7lIpeKVzMzzVWpLjg5-CKEwk7FEbDoBVvJ81kxYgxv3MxziTHuyItkK.mp4?efg=eyJ4cHZfYXNzZXRfaWQiOjQ4NjczNzkyNzc3NDAyNSwidmVuY29kZV90YWciOiJ4cHZfcHJvZ3Jlc3NpdmUuRkFDRUJPT0suLkMzLjEwODAuZGFzaF9oMjY0LWJhc2ljLWdlbjJfMTA4MHAifQ&_nc_ht=video.fsju2-1.fna.fbcdn.net&_nc_cat=110&strext=1&vs=a2b05944df3cda8b&_nc_vs=HBksFQIYOnBhc3N0aHJvdWdoX2V2ZXJzdG9yZS9HS2FzR0J6bERUbTZadHdGQVA4MVU2LUdrMDBhYnY0R0FBQUYVAALIAQAVAhg6cGFzc3Rocm91Z2hfZXZlcnN0b3JlL0dFM3lGaHpYSG1wLTdyVUJBQ0RIekN6elV2MTZidjRHQUFBRhUCAsgBACgAGAAbAogHdXNlX29pbAExEnByb2dyZXNzaXZlX3JlY2lwZQExFQAAJpL9xJTwq90BFQIoAkMzLBdAMyIMSbpeNRgaZGFzaF9oMjY0LWJhc2ljLWdlbjJfMTA4MHARAHUCAA&ccb=9-4&oh=00_AYC4H7LCBwNhmqDKgMVaW2fABqQUpkMB7Z_SPxb4YaUZhA&oe=67742A59&_nc_sid=1d576d'}, 'external_url': None, 'attached_post': None, 'attached_post_url': None}, {'post_id': '1048392233999463', 'type': 'post', 'url': 'https://www.facebook.com/facebook/posts/pfbid0TwC1P2TS61DkdDEwFnSiD5pFRaYBZhBuYnfm1sNjSWXBcckGicSQxJzc9oXXae19l', 'message': 'If you’re reading this, make sure you put yourself on your gift-giving list this year. 😘', 'timestamp': 1735059614, 'comments_count': 12065, 'reactions_count': 42892, 'reshare_count': 958, 'reactions': {'angry': 34, 'care': 1177, 'haha': 400, 'like': 30000, 'love': 11027, 'sad': 48, 'wow': 206}, 'author': {'id': '100064860875397', 'name': 'Facebook', 'url': 'https://www.facebook.com/facebook', 'profile_picture_url': 'https://scontent.fsju2-1.fna.fbcdn.net/v/t39.30808-1/380700650_10162533193146729_2379134611963304810_n.jpg?stp=cp0_dst-jpg_s40x40_tt6&_nc_cat=1&ccb=1-7&_nc_sid=2d3e12&_nc_ohc=67Nz6WPCgW4Q7kNvgFZiETs&_nc_zt=24&_nc_ht=scontent.fsju2-1.fna&_nc_gid=Ap4ozhax8g96zTlPtRyeP0c&oh=00_AYDkO-ohRPPUmU-sC4UzmL2TKyH0IvInJ0WchSaZ_cc0iA&oe=6778258E'}, 'image': None, 'video': None, 'album_preview': None, 'video_files': None, 'external_url': None, 'attached_post': None, 'attached_post_url': None}], 'cursor': 'Cg8Ob3JnYW5pY19jdXJzb3IJAAABxEFRSFJjQWt6LVZTQ29zRnpvZmFJdXZOanlRMXNwUGFmVlhSV2s1eURYVXBnRU1WbVZyRWdLRENwYWlJS1ZvcFlkakwzM2taUE9DVmhlQms1YWVHRENIQWdTc3RlTlJIMzZnbGItU2taVnh4amh1RE5xYnNVT2hrQmc0cFVZS0ZjWmRYdkRCVnpYcnRvanFnSWo1aFdzQnd2bXk1ZGNqS1ZYSkV6RFg5RFE0ckhZa2Q4cFRPRW01bkhvS1lWUHBPZjBMV0tGN0xPREl0TVYtbzJaLXphd0hPY2tfN3k3WHZaMGMwLW1rMWp2ZGxtM2tUODI1N2Mycnpic2k4Sm5oUGg1VFB4SGV2VDJtcnpDRHowZGtFeTFZZEJOUnA0eVpJSGZ5X3J2NEd4U3dvQTRqbGdubVRDeVRmbkRkaDNKUVlXSmRFRnVYLUZKLUZjYTdHYlJ6VWE2ekJjZEdoMHZweG14Q1dmZk0yYXFYVWZqdVBCTmhZS01QZ1pJT0gwTmdtczBVbjZCaThyb1ZiaGxhb1cwR2VvRGhQNXN3RHdqRk1MWHhUMU1PenFMT1dvbU9IbDlLN1BrcXJGMDJVNERCRzJwRHlHDwlhZF9jdXJzb3IODw9nbG9iYWxfcG9zaXRpb24CAA8Gb2Zmc2V0AgAPEGxhc3RfYWRfcG9zaXRpb24C/wE='}\n"
     ]
    }
   ],
   "source": [
    "import requests\n",
    "\n",
    "url = \"https://facebook-scraper3.p.rapidapi.com/page/posts\"\n",
    "\n",
    "querystring = {\"page_id\":\"100064860875397\"}\n",
    "\n",
    "headers = {\n",
    "\t\"x-rapidapi-key\": \"04edcb85a3mshac913eab2bf3075p184839jsn4e30538b9195\",\n",
    "\t\"x-rapidapi-host\": \"facebook-scraper3.p.rapidapi.com\"\n",
    "}\n",
    "\n",
    "response = requests.get(url, headers=headers, params=querystring)\n",
    "params={\"limit\": 10}\n",
    "posts = response.json().get('posts', [])\n",
    "last_10_post_ids = [post['id'] for post in posts[:10]]\n",
    "\n",
    "print(response.json())"
   ]
  },
  {
   "cell_type": "code",
   "execution_count": 1,
   "metadata": {},
   "outputs": [
    {
     "name": "stdout",
     "output_type": "stream",
     "text": [
      "{'results': {'post_id': '1017566160415404', 'type': 'post', 'url': 'https://www.facebook.com/facebook/posts/pfbid027c3mCqKitX9VWDnZMbbYAvjcAek3nbXgWisvbcDmtdbyeNq9TCDx677Sq7q5a2oml', 'message': 'Nothing works when your ponytail is too tight.', 'timestamp': 1731700941, 'comments_count': 3474, 'reactions_count': 23287, 'reshare_count': 1835, 'reactions': {'angry': 40, 'care': 106, 'haha': 10591, 'like': 11856, 'love': 505, 'sad': 40, 'wow': 149}, 'author': {'id': '100064860875397', 'name': 'Facebook', 'url': 'https://www.facebook.com/facebook', 'profile_picture_url': 'https://scontent.fcnd1-1.fna.fbcdn.net/v/t39.30808-1/380700650_10162533193146729_2379134611963304810_n.jpg?stp=cp0_dst-jpg_s80x80_tt6&_nc_cat=1&ccb=1-7&_nc_sid=2d3e12&_nc_ohc=67Nz6WPCgW4Q7kNvgF2oXM0&_nc_zt=24&_nc_ht=scontent.fcnd1-1.fna&_nc_gid=AslhnHn2JGB2qHbIxH3XASd&oh=00_AYAA2w4t-_0cQIJOmpatr3YNN9i3bw4is1EkEDn5TlRRRw&oe=6778258E'}, 'image': None, 'video': None, 'album_preview': None, 'video_files': None, 'external_url': None, 'attached_post': None, 'attached_post_url': None}}\n"
     ]
    }
   ],
   "source": [
    "import requests\n",
    "\n",
    "url = \"https://facebook-scraper3.p.rapidapi.com/post\"\n",
    "\n",
    "querystring = {\"post_id\":\"pfbid04KTWEM9Rri6Wg3oLRBF5FUUvfPebQ6ZJRwVivymc8e8KWvy3RsnpUXyppjEZqkwZl\"}\n",
    "\n",
    "headers = {\n",
    "\t\"x-rapidapi-key\": \"04edcb85a3mshac913eab2bf3075p184839jsn4e30538b9195\",\n",
    "\t\"x-rapidapi-host\": \"facebook-scraper3.p.rapidapi.com\"\n",
    "}\n",
    "\n",
    "response = requests.get(url, headers=headers, params=querystring)\n",
    "\n",
    "print(response.json())"
   ]
  },
  {
   "cell_type": "code",
   "execution_count": null,
   "metadata": {},
   "outputs": [],
   "source": []
  }
 ],
 "metadata": {
  "kernelspec": {
   "display_name": "Python 3",
   "language": "python",
   "name": "python3"
  },
  "language_info": {
   "codemirror_mode": {
    "name": "ipython",
    "version": 3
   },
   "file_extension": ".py",
   "mimetype": "text/x-python",
   "name": "python",
   "nbconvert_exporter": "python",
   "pygments_lexer": "ipython3",
   "version": "3.12.5"
  }
 },
 "nbformat": 4,
 "nbformat_minor": 2
}
