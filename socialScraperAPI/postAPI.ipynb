{
 "cells": [
  {
   "cell_type": "code",
   "execution_count": 1,
   "metadata": {},
   "outputs": [],
   "source": [
    "# A successfully created ig container\n",
    "ig_container_success = {\n",
    "    \"id\": \"{ig-container-id}\",\n",
    "    \"status\": \"Published: Media has been successfully published.\",\n",
    "    \"status_code\": \"PUBLISHED\",\n",
    "    \"video_status\": {\n",
    "        \"uploading_phase\": {\n",
    "            \"status\": \"complete\",\n",
    "            \"bytes_transferred\": 37006904\n",
    "        },\n",
    "        \"processing_phase\": {\n",
    "            \"status\": \"complete\"\n",
    "        }\n",
    "    }\n",
    "}\n",
    "\n",
    "# An interrupted ig container creation, from here you can resume your upload in step 2 with offset=50002.\n",
    "ig_container_interrupted = {\n",
    "    \"id\": \"{ig-container-id}\",\n",
    "    \"status\": \"Published: Media has been successfully published.\",\n",
    "    \"status_code\": \"PUBLISHED\",\n",
    "    \"video_status\": {\n",
    "        \"uploading_phase\": {\n",
    "            \"status\": \"in_progress\",\n",
    "            \"bytes_transferred\": 50002\n",
    "        },\n",
    "        \"processing_phase\": {\n",
    "            \"status\": \"not_started\"\n",
    "        }\n",
    "    }\n",
    "}"
   ]
  },
  {
   "cell_type": "code",
   "execution_count": null,
   "metadata": {},
   "outputs": [],
   "source": []
  }
 ],
 "metadata": {
  "kernelspec": {
   "display_name": "Python 3",
   "language": "python",
   "name": "python3"
  },
  "language_info": {
   "codemirror_mode": {
    "name": "ipython",
    "version": 3
   },
   "file_extension": ".py",
   "mimetype": "text/x-python",
   "name": "python",
   "nbconvert_exporter": "python",
   "pygments_lexer": "ipython3",
   "version": "3.12.5"
  }
 },
 "nbformat": 4,
 "nbformat_minor": 2
}
